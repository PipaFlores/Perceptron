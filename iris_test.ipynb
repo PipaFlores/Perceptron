{
 "cells": [
  {
   "cell_type": "code",
   "execution_count": 1,
   "metadata": {},
   "outputs": [],
   "source": [
    "\n",
    "import pandas as pd\n",
    "from sklearn.utils import shuffle\n",
    "import numpy as np\n",
    "from sklearn.datasets import load_iris\n",
    "import matplotlib.pyplot as plt\n"
   ]
  },
  {
   "cell_type": "code",
   "execution_count": 23,
   "metadata": {},
   "outputs": [
    {
     "data": {
      "text/html": [
       "<div>\n",
       "<style scoped>\n",
       "    .dataframe tbody tr th:only-of-type {\n",
       "        vertical-align: middle;\n",
       "    }\n",
       "\n",
       "    .dataframe tbody tr th {\n",
       "        vertical-align: top;\n",
       "    }\n",
       "\n",
       "    .dataframe thead th {\n",
       "        text-align: right;\n",
       "    }\n",
       "</style>\n",
       "<table border=\"1\" class=\"dataframe\">\n",
       "  <thead>\n",
       "    <tr style=\"text-align: right;\">\n",
       "      <th></th>\n",
       "      <th>sepal length (cm)</th>\n",
       "      <th>sepal width (cm)</th>\n",
       "      <th>petal length (cm)</th>\n",
       "      <th>petal width (cm)</th>\n",
       "      <th>target</th>\n",
       "    </tr>\n",
       "  </thead>\n",
       "  <tbody>\n",
       "    <tr>\n",
       "      <th>39</th>\n",
       "      <td>5.1</td>\n",
       "      <td>3.4</td>\n",
       "      <td>1.5</td>\n",
       "      <td>0.2</td>\n",
       "      <td>setosa</td>\n",
       "    </tr>\n",
       "    <tr>\n",
       "      <th>137</th>\n",
       "      <td>6.4</td>\n",
       "      <td>3.1</td>\n",
       "      <td>5.5</td>\n",
       "      <td>1.8</td>\n",
       "      <td>virginica</td>\n",
       "    </tr>\n",
       "    <tr>\n",
       "      <th>107</th>\n",
       "      <td>7.3</td>\n",
       "      <td>2.9</td>\n",
       "      <td>6.3</td>\n",
       "      <td>1.8</td>\n",
       "      <td>virginica</td>\n",
       "    </tr>\n",
       "    <tr>\n",
       "      <th>102</th>\n",
       "      <td>7.1</td>\n",
       "      <td>3.0</td>\n",
       "      <td>5.9</td>\n",
       "      <td>2.1</td>\n",
       "      <td>virginica</td>\n",
       "    </tr>\n",
       "    <tr>\n",
       "      <th>9</th>\n",
       "      <td>4.9</td>\n",
       "      <td>3.1</td>\n",
       "      <td>1.5</td>\n",
       "      <td>0.1</td>\n",
       "      <td>setosa</td>\n",
       "    </tr>\n",
       "  </tbody>\n",
       "</table>\n",
       "</div>"
      ],
      "text/plain": [
       "    sepal length (cm) sepal width (cm) petal length (cm) petal width (cm)  \\\n",
       "39                5.1              3.4               1.5              0.2   \n",
       "137               6.4              3.1               5.5              1.8   \n",
       "107               7.3              2.9               6.3              1.8   \n",
       "102               7.1              3.0               5.9              2.1   \n",
       "9                 4.9              3.1               1.5              0.1   \n",
       "\n",
       "        target  \n",
       "39      setosa  \n",
       "137  virginica  \n",
       "107  virginica  \n",
       "102  virginica  \n",
       "9       setosa  "
      ]
     },
     "execution_count": 23,
     "metadata": {},
     "output_type": "execute_result"
    }
   ],
   "source": [
    "iris = load_iris()\n",
    "df = pd.DataFrame(data=np.c_[iris['data'], [iris['target_names'][int(x)] for x in iris['target']]], \n",
    "                 columns=iris['feature_names'] + ['target'])\n",
    "# Data is already shuffled in this case\n",
    "df = shuffle(df)\n",
    "\n",
    "df.head(5)\n"
   ]
  },
  {
   "cell_type": "code",
   "execution_count": 24,
   "metadata": {},
   "outputs": [
    {
     "name": "stdout",
     "output_type": "stream",
     "text": [
      "[[5.1 3.4 1.5 0.2]\n",
      " [6.4 3.1 5.5 1.8]\n",
      " [7.3 2.9 6.3 1.8]\n",
      " [7.1 3.  5.9 2.1]\n",
      " [4.9 3.1 1.5 0.1]]\n",
      "['setosa' 'virginica' 'virginica' 'virginica' 'setosa']\n"
     ]
    }
   ],
   "source": [
    "X = df.iloc[:, 0:4].values.astype(np.float32)\n",
    "y = df.iloc[:, 4].values\n",
    "\n",
    "print(X[0:5])\n",
    "print(y[0:5])"
   ]
  },
  {
   "cell_type": "code",
   "execution_count": 34,
   "metadata": {},
   "outputs": [
    {
     "name": "stdout",
     "output_type": "stream",
     "text": [
      "Iris feature names:\n",
      "['sepal length (cm)', 'sepal width (cm)', 'petal length (cm)', 'petal width (cm)']\n"
     ]
    }
   ],
   "source": [
    "# Print feature names from iris dataset\n",
    "print(\"Iris feature names:\")\n",
    "print(iris['feature_names'])"
   ]
  },
  {
   "cell_type": "code",
   "execution_count": 36,
   "metadata": {},
   "outputs": [
    {
     "name": "stdout",
     "output_type": "stream",
     "text": [
      "Number of misclassifications in each epoch: [44, 32, 21, 10, 7, 12, 7, 8, 6, 9]\n"
     ]
    }
   ],
   "source": [
    "## 1. Train the Perceptron\n",
    "feature_1 = 0\n",
    "feature_2 = 1\n",
    "feature_1_name = iris['feature_names'][feature_1]\n",
    "feature_2_name = iris['feature_names'][feature_2]\n",
    "\n",
    "# Convert string labels to numeric (-1 for setosa, 1 for versicolor)\n",
    "# We'll only use two classes for binary classification\n",
    "setosa_versicolor_mask = (y == 'setosa') | (y == 'versicolor')\n",
    "X_binary = X[setosa_versicolor_mask][:, [feature_1, feature_2]]\n",
    "y_binary = np.where(y[setosa_versicolor_mask] == 'setosa', -1, 1)\n",
    "\n",
    "# Create and train the perceptron\n",
    "from Perceptron import Perceptron\n",
    "ppn = Perceptron(eta=0.1, n_iter=10)\n",
    "ppn.fit(X_binary, y_binary)\n",
    "\n",
    "print('Number of misclassifications in each epoch:', ppn.errors_)\n",
    "\n"
   ]
  },
  {
   "cell_type": "code",
   "execution_count": 37,
   "metadata": {},
   "outputs": [
    {
     "data": {
      "image/png": "[encoded data removed]",
      "text/plain": [
       "<Figure size 640x480 with 1 Axes>"
      ]
     },
     "metadata": {},
     "output_type": "display_data"
    }
   ],
   "source": [
    "## 2. Plot the decision boundary\n",
    "# Plot setup\n",
    "x_min, x_max = X_binary[:, 0].min() - 1, X_binary[:, 0].max() + 1\n",
    "y_min, y_max = X_binary[:, 1].min() - 1, X_binary[:, 1].max() + 1\n",
    "\n",
    "# Create a mesh grid\n",
    "xx, yy = np.meshgrid(np.arange(x_min, x_max, 0.02),\n",
    "                np.arange(y_min, y_max, 0.02))\n",
    "# Get predictions for each point in the mesh\n",
    "Z = ppn.predict(np.c_[xx.ravel(), yy.ravel()])\n",
    "Z = Z.reshape(xx.shape)\n",
    "\n",
    "# Plot decision boundary and scatter plot\n",
    "plt.contourf(xx, yy, Z, alpha=0.4)\n",
    "plt.scatter(X_binary[y_binary == -1, feature_1], X_binary[y_binary == -1, feature_2], \n",
    "           c='red', marker='o', label='Setosa')\n",
    "plt.scatter(X_binary[y_binary == 1, feature_1], X_binary[y_binary == 1, feature_2],\n",
    "           c='blue', marker='x', label='Versicolor')\n",
    "\n",
    "plt.xlabel(feature_1_name)\n",
    "plt.ylabel(feature_2_name)\n",
    "plt.legend(loc='upper left')\n",
    "plt.show()\n",
    "\n"
   ]
  }
 ],
 "metadata": {
  "kernelspec": {
   "display_name": "neuralnetworks",
   "language": "python",
   "name": "python3"
  },
  "language_info": {
   "codemirror_mode": {
    "name": "ipython",
    "version": 3
   },
   "file_extension": ".py",
   "mimetype": "text/x-python",
   "name": "python",
   "nbconvert_exporter": "python",
   "pygments_lexer": "ipython3",
   "version": "3.11.10"
  }
 },
 "nbformat": 4,
 "nbformat_minor": 2
}
